{
 "cells": [
  {
   "cell_type": "code",
   "execution_count": 3,
   "id": "75e7afbea7290a71",
   "metadata": {
    "ExecuteTime": {
     "end_time": "2023-08-13T23:06:24.367328Z",
     "start_time": "2023-08-13T23:06:24.340239Z"
    },
    "collapsed": false
   },
   "outputs": [],
   "source": [
    "from pathlib import Path\n",
    "import matplotlib.pyplot as plt\n",
    "from src.extraction import extract_answers_from_pdf_page\n",
    "import cv2\n",
    "\n",
    "\n",
    "plt.rcParams[\"figure.figsize\"] = [10, 10]\n",
    "\n",
    "path = Path(\"./data\")\n",
    "output_path = Path(\"./output\")\n",
    "output_path.mkdir(exist_ok=True)\n",
    "\n",
    "pdf_file_path = path / \"bw_omr.pdf\"\n"
   ]
  },
  {
   "cell_type": "code",
   "execution_count": 4,
   "id": "698d3c4ac0171224",
   "metadata": {
    "ExecuteTime": {
     "end_time": "2023-08-13T23:06:25.619498Z",
     "start_time": "2023-08-13T23:06:24.368205Z"
    },
    "collapsed": false
   },
   "outputs": [],
   "source": [
    "for page_number in range(10):\n",
    "    output_file_path = str(output_path / f\"page_{page_number}.png\")\n",
    "    answers, marked_answer_sheet = extract_answers_from_pdf_page(pdf_file_path, page_number, threshold=50, plot=True)\n",
    "    cv2.imwrite(output_file_path, marked_answer_sheet)"
   ]
  }
 ],
 "metadata": {
  "kernelspec": {
   "display_name": "Python 3 (ipykernel)",
   "language": "python",
   "name": "python3"
  },
  "language_info": {
   "codemirror_mode": {
    "name": "ipython",
    "version": 3
   },
   "file_extension": ".py",
   "mimetype": "text/x-python",
   "name": "python",
   "nbconvert_exporter": "python",
   "pygments_lexer": "ipython3",
   "version": "3.11.4"
  }
 },
 "nbformat": 4,
 "nbformat_minor": 5
}
